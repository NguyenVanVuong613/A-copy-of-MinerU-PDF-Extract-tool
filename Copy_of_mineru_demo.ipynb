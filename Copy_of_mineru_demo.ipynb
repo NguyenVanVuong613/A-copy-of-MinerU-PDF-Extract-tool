{
  "cells": [
    {
      "cell_type": "markdown",
      "metadata": {
        "id": "view-in-github",
        "colab_type": "text"
      },
      "source": [
        "<a href=\"https://colab.research.google.com/github/NguyenVanVuong613/PDF_Etracxt/blob/main/Copy_of_mineru_demo.ipynb\" target=\"_parent\"><img src=\"https://colab.research.google.com/assets/colab-badge.svg\" alt=\"Open In Colab\"/></a>"
      ]
    },
    {
      "cell_type": "markdown",
      "metadata": {
        "id": "ozeCGy0fwA4R"
      },
      "source": [
        "# minerU install and use demo"
      ]
    },
    {
      "cell_type": "markdown",
      "metadata": {
        "id": "F9dnYLSDwQyR"
      },
      "source": [
        "## 1.Install"
      ]
    },
    {
      "cell_type": "markdown",
      "metadata": {
        "id": "Rw-hwakFwaeY"
      },
      "source": [
        "### 1.1Using CPU"
      ]
    },
    {
      "cell_type": "code",
      "execution_count": null,
      "metadata": {
        "id": "_3EDplqlxKB_"
      },
      "outputs": [],
      "source": [
        "!pip install -U magic-pdf[full] --extra-index-url https://wheels.myhloli.com"
      ]
    },
    {
      "cell_type": "code",
      "execution_count": null,
      "metadata": {
        "id": "MSyCKHmqCp_j"
      },
      "outputs": [],
      "source": [
        "!magic-pdf -v"
      ]
    },
    {
      "cell_type": "code",
      "execution_count": null,
      "metadata": {
        "id": "tP2eSngoCL77"
      },
      "outputs": [],
      "source": [
        "#!wget https://github.com/opendatalab/MinerU/raw/master/docs/download_models_hf.py && pip install huggingface_hub"
      ]
    },
    {
      "cell_type": "code",
      "execution_count": null,
      "metadata": {
        "id": "JDXYZ8a1CpFc",
        "collapsed": true
      },
      "outputs": [],
      "source": [
        "#from huggingface_hub import snapshot_download\n",
        "#model_dir = snapshot_download('opendatalab/PDF-Extract-Kit')"
      ]
    },
    {
      "cell_type": "code",
      "source": [
        "!git lfs install"
      ],
      "metadata": {
        "id": "HpGoZbrG73wX",
        "outputId": "594062b8-047f-48dc-d6ea-38e17ece0182",
        "colab": {
          "base_uri": "https://localhost:8080/"
        }
      },
      "execution_count": null,
      "outputs": [
        {
          "output_type": "stream",
          "name": "stdout",
          "text": [
            "Git LFS initialized.\n"
          ]
        }
      ]
    },
    {
      "cell_type": "code",
      "source": [
        "!git lfs clone https://huggingface.co/opendatalab/PDF-Extract-Kit"
      ],
      "metadata": {
        "id": "Tbx-esV376xU"
      },
      "execution_count": null,
      "outputs": []
    },
    {
      "cell_type": "code",
      "source": [
        "\"\"\"\n",
        "move magic-pdf.template.json under root/\n",
        "modify \"models-dir\" in magic-pdf.json\n",
        "\"\"\"\n",
        "!wget https://github.com/opendatalab/MinerU/raw/master/magic-pdf.template.json && mv magic-pdf.template.json ~/magic-pdf.json && sed -i 's|/tmp/models|{model_dir}|g' ~/magic-pdf.json"
      ],
      "metadata": {
        "id": "oqQPtCy6_MIl"
      },
      "execution_count": null,
      "outputs": []
    },
    {
      "cell_type": "markdown",
      "source": [
        "### 1.2Using GPU"
      ],
      "metadata": {
        "id": "LuV8bY13Cf5V"
      }
    },
    {
      "cell_type": "code",
      "source": [
        "!sed -i 's|cpu|cuda|g' ~/magic-pdf.json"
      ],
      "metadata": {
        "id": "1wI7wVOyO1YD",
        "collapsed": true
      },
      "execution_count": null,
      "outputs": []
    },
    {
      "cell_type": "code",
      "source": [
        "!pip install paddlepaddle-gpu==3.0.0b1 -i https://www.paddlepaddle.org.cn/packages/stable/cu118/"
      ],
      "metadata": {
        "id": "8xLgxmJnO8W7"
      },
      "execution_count": null,
      "outputs": []
    },
    {
      "cell_type": "markdown",
      "source": [
        "## 2.Usage"
      ],
      "metadata": {
        "id": "Qh8YKU19CrQY"
      }
    },
    {
      "cell_type": "markdown",
      "source": [
        "### 2.1Command line"
      ],
      "metadata": {
        "id": "3dZlkl3jDNKL"
      }
    },
    {
      "cell_type": "markdown",
      "source": [
        "#### **Convert Single PDF**"
      ],
      "metadata": {
        "id": "mVRMM_FaDi2d"
      }
    },
    {
      "cell_type": "code",
      "source": [
        "!wget https://github.com/opendatalab/MinerU/raw/master/demo/demo1.pdf && wget https://github.com/opendatalab/MinerU/raw/master/demo/demo2.pdf"
      ],
      "metadata": {
        "id": "ZJLR98tTmPzn"
      },
      "execution_count": null,
      "outputs": []
    },
    {
      "cell_type": "code",
      "execution_count": null,
      "metadata": {
        "id": "6RivAWteLeYM"
      },
      "outputs": [],
      "source": [
        "!magic-pdf -p /content/test3.pdf -o output2/ -m auto"
      ]
    },
    {
      "cell_type": "code",
      "source": [
        "import os\n",
        "from PIL import Image\n",
        "from loguru import logger\n",
        "\n",
        "from magic_pdf.model import pdf_extract_kit\n",
        "\n",
        "output_dir = '/content/output_formulas'  # This is within Colab's file system\n",
        "\n",
        "# Create the directory if it doesn't exist\n",
        "os.makedirs(output_dir, exist_ok=True)\n",
        "\n",
        "# Save mf_image_list to the output directory\n",
        "for idx, img in enumerate(mf_image_list):\n",
        "    image_filename = os.path.join(output_dir, f\"formula_{idx}.png\")\n",
        "    img.save(image_filename)\n",
        "    print(f\"Saved formula image to {image_filename}\")\n"
      ],
      "metadata": {
        "id": "iAvHlLmHdCYZ"
      },
      "execution_count": null,
      "outputs": []
    },
    {
      "cell_type": "code",
      "source": [
        "import fitz  # PyMuPDF\n",
        "import matplotlib.pyplot as plt\n",
        "\n",
        "\n",
        "import fitz  # PyMuPDF\n",
        "import matplotlib.pyplot as plt\n",
        "import numpy as np\n",
        "\n",
        "# Open the PDF file\n",
        "# Open the PDF file\n",
        "layout = \"output/demo1/auto/layout.pdf\"\n",
        "spans = \"output/demo1/auto/spans.pdf\"\n",
        "# Load and render the first page\n",
        "layout_page_0 = fitz.open(layout).load_page(0)\n",
        "spans_page_0 = fitz.open(spans).load_page(0)\n",
        "\n",
        "\n",
        "pix1 = layout_page_0.get_pixmap()\n",
        "img_array1 = np.frombuffer(pix1.samples, dtype=np.uint8).reshape(pix1.height, pix1.width, pix1.n)\n",
        "\n",
        "# Load and render the second page\n",
        "pix2 = spans_page_0.get_pixmap()\n",
        "img_array2 = np.frombuffer(pix2.samples, dtype=np.uint8).reshape(pix2.height, pix2.width, pix2.n)\n",
        "\n",
        "# Create subplots\n",
        "fig, axes = plt.subplots(1, 2, figsize=(12, 8))\n",
        "\n",
        "# Display the first image\n",
        "axes[0].imshow(img_array1)\n",
        "axes[0].axis('off')\n",
        "\n",
        "# Display the second image\n",
        "axes[1].imshow(img_array2)\n",
        "axes[1].axis('off')\n",
        "\n",
        "plt.tight_layout()\n",
        "plt.show()"
      ],
      "metadata": {
        "id": "F6K4E8CfH6_V"
      },
      "execution_count": null,
      "outputs": []
    },
    {
      "cell_type": "code",
      "source": [
        "!pip install pypandoc reportlab pdfplumber\n"
      ],
      "metadata": {
        "id": "FNm8TDBYD73i"
      },
      "execution_count": null,
      "outputs": []
    },
    {
      "cell_type": "code",
      "source": [
        "# Install necessary Python libraries\n",
        "!pip install pypandoc reportlab pdfplumber\n",
        "\n",
        "# Install wkhtmltopdf as the PDF engine\n",
        "!apt-get install -y wkhtmltopdf\n",
        "\n"
      ],
      "metadata": {
        "id": "toVlf8UEF36K"
      },
      "execution_count": null,
      "outputs": []
    },
    {
      "cell_type": "code",
      "source": [
        "# Import necessary libraries\n",
        "import pypandoc\n",
        "from reportlab.lib.pagesizes import A4\n",
        "from reportlab.pdfgen import canvas\n",
        "import pdfplumber\n",
        "\n",
        "# Convert markdown (demo1.md) to a new PDF using pypandoc\n",
        "md_input = \"/content/output/demo1/auto/demo1.md\"\n",
        "pdf_output = \"/content/output/demo1/auto/reconstructed_pdf_from_md.pdf\"\n",
        "\n",
        "# Convert markdown to PDF\n",
        "pypandoc.convert_file(md_input, 'pdf', outputfile=pdf_output)\n",
        "print(f\"PDF generated from markdown: {pdf_output}\")\n",
        "\n",
        "# Open and extract content from demo1_layout.pdf using pdfplumber\n",
        "layout_pdf_path = \"/content/output/demo1/auto/demo1_layout.pdf\"\n",
        "new_pdf_with_layout = \"/content/output/demo1/auto/new_pdf_with_layout.pdf\"\n",
        "\n",
        "with pdfplumber.open(layout_pdf_path) as pdf:\n",
        "    first_page = pdf.pages[0]  # Example: Get the first page\n",
        "    extracted_text = first_page.extract_text()  # Extract text from the page\n",
        "    print(\"Extracted Text from Layout PDF:\")\n",
        "    print(extracted_text)\n",
        "\n",
        "    # Generate a new PDF by combining markdown content with layout content\n",
        "    c = canvas.Canvas(new_pdf_with_layout, pagesize=A4)\n",
        "\n",
        "    # Add text from markdown (already converted to PDF)\n",
        "    c.drawString(100, 800, \"Text extracted from markdown...\")\n",
        "\n",
        "    # Add content extracted from the layout PDF\n",
        "    c.drawString(100, 750, \"Text extracted from layout PDF:\")\n",
        "    c.drawString(100, 725, extracted_text[:1000])  # Add a portion of the extracted text\n",
        "\n",
        "    # You can add more content such as images, tables, etc., from layout or other sources here.\n",
        "\n",
        "    c.showPage()\n",
        "    c.save()\n",
        "\n",
        "print(f\"New PDF with content from layout and markdown: {new_pdf_with_layout}\")\n"
      ],
      "metadata": {
        "id": "8dy-YPwOEJEi"
      },
      "execution_count": null,
      "outputs": []
    },
    {
      "cell_type": "markdown",
      "source": [
        "#### **Convert Batch PDF**"
      ],
      "metadata": {
        "id": "f_D8K7-FDnu9"
      }
    },
    {
      "cell_type": "code",
      "source": [
        "!find ./ -name \"*.pdf\" | xargs -I {} magic-pdf -p {} -o output/"
      ],
      "metadata": {
        "id": "ZUHuLcdYxRkp",
        "collapsed": true
      },
      "execution_count": null,
      "outputs": []
    },
    {
      "cell_type": "markdown",
      "source": [
        "### 2.2API"
      ],
      "metadata": {
        "id": "Vm4ed0ZTDNc1"
      }
    },
    {
      "cell_type": "markdown",
      "source": [
        "#### **Simplest Convertion**"
      ],
      "metadata": {
        "id": "jI5Q3nFEPuHt"
      }
    },
    {
      "cell_type": "code",
      "source": [
        "\"\"\"\n",
        "convert pdf to markdown and text\n",
        "\"\"\"\n",
        "from magic_pdf.rw.DiskReaderWriter import DiskReaderWriter\n",
        "from magic_pdf.pipe.UNIPipe import UNIPipe\n",
        "import os\n",
        "pdf_path = \"demo1.pdf\"\n",
        "output_dir = \"output_api/\"\n",
        "pdf_name = os.path.basename(pdf_path).split(\".\")[0]\n",
        "output_path = os.path.join(output_dir, pdf_name)\n",
        "output_image_path = os.path.join(output_path, 'images')\n",
        "\n",
        "\n",
        "image_writer = DiskReaderWriter(output_image_path)\n",
        "image_dir = str(os.path.basename(output_image_path))\n",
        "jso_useful_key = {\"_pdf_type\": \"\", \"model_list\": []}\n",
        "pdf_bytes = open(pdf_path, \"rb\").read()\n",
        "pipe = UNIPipe(pdf_bytes, jso_useful_key, image_writer)\n",
        "pipe.pipe_classify()\n",
        "pipe.pipe_analyze()\n",
        "pipe.pipe_parse()\n",
        "md_content = pipe.pipe_mk_markdown(image_dir, drop_mode=\"none\")\n",
        "print(md_content)"
      ],
      "metadata": {
        "id": "_MzO4lLYuCs3"
      },
      "execution_count": null,
      "outputs": []
    },
    {
      "cell_type": "markdown",
      "source": [
        "#### **Convertion with middle details**"
      ],
      "metadata": {
        "id": "3SM0VQR7PuOo"
      }
    },
    {
      "cell_type": "code",
      "source": [
        "\"\"\"\n",
        "convert pdf and save middle.json model.json\n",
        "\"\"\"\n",
        "import copy\n",
        "import json\n",
        "def json_md_dump(\n",
        "        pipe,\n",
        "        md_writer,\n",
        "        pdf_name,\n",
        "        content_list,\n",
        "        md_content,\n",
        "):\n",
        "    # 写入模型结果到 model.json\n",
        "    orig_model_list = copy.deepcopy(pipe.model_list)\n",
        "    md_writer.write(\n",
        "        content=json.dumps(orig_model_list, ensure_ascii=False, indent=4),\n",
        "        path=f\"{pdf_name}_model.json\"\n",
        "    )\n",
        "\n",
        "    # 写入中间结果到 middle.json\n",
        "    md_writer.write(\n",
        "        content=json.dumps(pipe.pdf_mid_data, ensure_ascii=False, indent=4),\n",
        "        path=f\"{pdf_name}_middle.json\"\n",
        "    )\n",
        "\n",
        "    # text文本结果写入到 conent_list.json\n",
        "    md_writer.write(\n",
        "        content=json.dumps(content_list, ensure_ascii=False, indent=4),\n",
        "        path=f\"{pdf_name}_content_list.json\"\n",
        "    )\n",
        "\n",
        "    # 写入结果到 .md 文件中\n",
        "    md_writer.write(\n",
        "        content=md_content,\n",
        "        path=f\"{pdf_name}.md\"\n",
        "    )\n",
        "\n",
        "\n",
        "\n",
        "md_writer = DiskReaderWriter(output_path)\n",
        "image_path_parent = os.path.basename(output_image_path)\n",
        "content_list = pipe.pipe_mk_uni_format(image_path_parent, drop_mode=\"none\")\n",
        "json_md_dump(pipe, md_writer, pdf_name, content_list, md_content)"
      ],
      "metadata": {
        "id": "yDW-MPCZuXNv"
      },
      "execution_count": null,
      "outputs": []
    },
    {
      "cell_type": "markdown",
      "source": [
        "#### **Produce Equtation Results and draw bounding boxes with number**"
      ],
      "metadata": {
        "id": "XaHxu4sKrfLu"
      }
    },
    {
      "cell_type": "code",
      "source": [
        "\"\"\"\n",
        "detect and recognize equations from a pdf page\n",
        "\"\"\"\n",
        "\n",
        "import fitz  # PyMuPDF\n",
        "import matplotlib.pyplot as plt\n",
        "\n",
        "\n",
        "import fitz  # PyMuPDF\n",
        "import matplotlib.pyplot as plt\n",
        "import numpy as np\n",
        "def show_pdf(page0, page1):\n",
        "\n",
        "  pix1 = page0.get_pixmap()\n",
        "  img_array1 = np.frombuffer(pix1.samples, dtype=np.uint8).reshape(pix1.height, pix1.width, pix1.n)\n",
        "\n",
        "  # Load and render the second page\n",
        "  pix2 = page1.get_pixmap()\n",
        "  img_array2 = np.frombuffer(pix2.samples, dtype=np.uint8).reshape(pix2.height, pix2.width, pix2.n)\n",
        "\n",
        "  # Create subplots\n",
        "  fig, axes = plt.subplots(1, 2, figsize=(12, 8))\n",
        "\n",
        "  # Display the first image\n",
        "  axes[0].imshow(img_array1)\n",
        "  axes[0].axis('off')\n",
        "\n",
        "  # Display the second image\n",
        "  axes[1].imshow(img_array2)\n",
        "  axes[1].axis('off')\n",
        "\n",
        "  plt.tight_layout()\n",
        "  plt.show()"
      ],
      "metadata": {
        "id": "SFU6Ld0H73kU"
      },
      "execution_count": null,
      "outputs": []
    },
    {
      "cell_type": "code",
      "source": [
        "\"\"\"\n",
        "output equations in latex and draw bounding boxes with number on a pdf page\n",
        "\"\"\"\n",
        "from magic_pdf.libs.Constants import CROSS_PAGE\n",
        "from magic_pdf.libs.commons import fitz  # PyMuPDF\n",
        "from magic_pdf.libs.ocr_content_type import ContentType, BlockType, CategoryId\n",
        "from magic_pdf.model.magic_model import MagicModel\n",
        "from magic_pdf.libs.draw_bbox import draw_bbox_with_number\n",
        "\n",
        "pdf_info = pipe.pdf_mid_data[\"pdf_info\"]\n",
        "text_list = []\n",
        "inline_equation_list = []\n",
        "interline_equation_list = []\n",
        "interline_equation_content_list = []\n",
        "image_list = []\n",
        "table_list = []\n",
        "dropped_list = []\n",
        "next_page_text_list = []\n",
        "next_page_inline_equation_list = []\n",
        "\n",
        "def get_span_info(span):\n",
        "    if span[\"type\"] == ContentType.Text:\n",
        "        if span.get(CROSS_PAGE, False):\n",
        "            next_page_text_list.append(span[\"bbox\"])\n",
        "        else:\n",
        "            page_text_list.append(span[\"bbox\"])\n",
        "    elif span[\"type\"] == ContentType.InlineEquation:\n",
        "        if span.get(CROSS_PAGE, False):\n",
        "            next_page_inline_equation_list.append(span[\"bbox\"])\n",
        "        else:\n",
        "            page_inline_equation_list.append(span[\"bbox\"])\n",
        "    elif span[\"type\"] == ContentType.InterlineEquation:\n",
        "        page_interline_equation_list.append(span[\"bbox\"])\n",
        "        page_interline_equation_content_list.append(span[\"content\"])\n",
        "    elif span[\"type\"] == ContentType.Image:\n",
        "        page_image_list.append(span[\"bbox\"])\n",
        "    elif span[\"type\"] == ContentType.Table:\n",
        "        page_table_list.append(span[\"bbox\"])\n",
        "\n",
        "for page in pdf_info:\n",
        "    page_text_list = []\n",
        "    page_inline_equation_list = []\n",
        "    page_interline_equation_list = []\n",
        "    page_interline_equation_content_list = []\n",
        "    page_image_list = []\n",
        "    page_table_list = []\n",
        "    page_dropped_list = []\n",
        "\n",
        "    # 将跨页的span放到移动到下一页的列表中\n",
        "    if len(next_page_text_list) > 0:\n",
        "        page_text_list.extend(next_page_text_list)\n",
        "        next_page_text_list.clear()\n",
        "    if len(next_page_inline_equation_list) > 0:\n",
        "        page_inline_equation_list.extend(next_page_inline_equation_list)\n",
        "        next_page_inline_equation_list.clear()\n",
        "\n",
        "    # 构造dropped_list\n",
        "    for block in page[\"discarded_blocks\"]:\n",
        "        if block[\"type\"] == BlockType.Discarded:\n",
        "            for line in block[\"lines\"]:\n",
        "                for span in line[\"spans\"]:\n",
        "                    page_dropped_list.append(span[\"bbox\"])\n",
        "    dropped_list.append(page_dropped_list)\n",
        "    # 构造其余useful_list\n",
        "    for block in page[\"para_blocks\"]:\n",
        "        if block[\"type\"] in [\n",
        "            BlockType.Text,\n",
        "            BlockType.Title,\n",
        "            BlockType.InterlineEquation,\n",
        "        ]:\n",
        "            for line in block[\"lines\"]:\n",
        "                for span in line[\"spans\"]:\n",
        "                    get_span_info(span)\n",
        "        elif block[\"type\"] in [BlockType.Image, BlockType.Table]:\n",
        "            for sub_block in block[\"blocks\"]:\n",
        "                for line in sub_block[\"lines\"]:\n",
        "                    for span in line[\"spans\"]:\n",
        "                        get_span_info(span)\n",
        "    text_list.append(page_text_list)\n",
        "    inline_equation_list.append(page_inline_equation_list)\n",
        "    interline_equation_list.append(page_interline_equation_list)\n",
        "    interline_equation_content_list.append(page_interline_equation_content_list)\n",
        "    image_list.append(page_image_list)\n",
        "    table_list.append(page_table_list)"
      ],
      "metadata": {
        "id": "BRfm_jSlvDWm"
      },
      "execution_count": null,
      "outputs": []
    },
    {
      "cell_type": "code",
      "source": [
        "pdf_docs = fitz.open(\"pdf\", pdf_bytes)\n",
        "page_no = 3\n",
        "page = pdf_docs[page_no]\n",
        "draw_bbox_with_number(page_no, interline_equation_list, page, [0, 0, 255], False)\n",
        "ori_pdf = \"demo1.pdf\"\n",
        "# Load and render the first page\n",
        "ori_page_i = fitz.open(ori_pdf).load_page(page_no)\n",
        "show_pdf(ori_page_i, page)\n",
        "for i, equation in enumerate(interline_equation_content_list[page_no]):\n",
        "  print(f\"{i}: {equation}\")"
      ],
      "metadata": {
        "id": "6LvAbfdH_xTL"
      },
      "execution_count": null,
      "outputs": []
    },
    {
      "cell_type": "markdown",
      "source": [
        "#### **Produce image Results and draw bounding boxes with number**"
      ],
      "metadata": {
        "id": "SvZfwm1rMCbs"
      }
    },
    {
      "cell_type": "code",
      "source": [
        "pdf_docs = fitz.open(\"pdf\", pdf_bytes)\n",
        "page_no = 3\n",
        "page = pdf_docs[page_no]\n",
        "draw_bbox_with_number(page_no, image_list, page, [0, 0, 255], False)\n",
        "ori_pdf = \"demo1.pdf\"\n",
        "# Load and render the first page\n",
        "ori_page_i = fitz.open(ori_pdf).load_page(page_no)\n",
        "show_pdf(ori_page_i, page)"
      ],
      "metadata": {
        "id": "8U_He1jYeB4-"
      },
      "execution_count": null,
      "outputs": []
    },
    {
      "cell_type": "markdown",
      "source": [
        "#### **Produce text Results and draw bounding boxes with number**"
      ],
      "metadata": {
        "id": "PyR0_hE6mj0-"
      }
    },
    {
      "cell_type": "code",
      "source": [
        "pdf_docs = fitz.open(\"pdf\", pdf_bytes)\n",
        "page_no = 3\n",
        "page = pdf_docs[page_no]\n",
        "draw_bbox_with_number(page_no, text_list, page, [0, 0, 255], False)\n",
        "ori_pdf = \"demo1.pdf\"\n",
        "# Load and render the first page\n",
        "ori_page_i = fitz.open(ori_pdf).load_page(page_no)\n",
        "show_pdf(ori_page_i, page)"
      ],
      "metadata": {
        "id": "2Vo2S7puq-HL"
      },
      "execution_count": null,
      "outputs": []
    },
    {
      "cell_type": "markdown",
      "source": [
        "#### **Produce Dropped content and draw bounding boxes with number**"
      ],
      "metadata": {
        "id": "PJNfjRlorj_B"
      }
    },
    {
      "cell_type": "code",
      "source": [
        "pdf_docs = fitz.open(\"pdf\", pdf_bytes)\n",
        "page_no = 3\n",
        "page = pdf_docs[page_no]\n",
        "draw_bbox_with_number(page_no, dropped_list, page, [0, 0, 255], False)\n",
        "ori_pdf = \"demo1.pdf\"\n",
        "# Load and render the first page\n",
        "ori_page_i = fitz.open(ori_pdf).load_page(page_no)\n",
        "show_pdf(ori_page_i, page)"
      ],
      "metadata": {
        "id": "GTAh3G_urkyD"
      },
      "execution_count": null,
      "outputs": []
    }
  ],
  "metadata": {
    "colab": {
      "provenance": [],
      "gpuType": "T4",
      "include_colab_link": true
    },
    "kernelspec": {
      "display_name": "Python 3",
      "name": "python3"
    },
    "language_info": {
      "name": "python"
    },
    "accelerator": "GPU"
  },
  "nbformat": 4,
  "nbformat_minor": 0
}